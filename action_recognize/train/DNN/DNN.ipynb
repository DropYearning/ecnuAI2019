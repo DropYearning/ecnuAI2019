{
 "cells": [
  {
   "cell_type": "code",
   "execution_count": 1,
   "metadata": {},
   "outputs": [
    {
     "name": "stderr",
     "output_type": "stream",
     "text": [
      "Using TensorFlow backend.\n"
     ]
    }
   ],
   "source": [
    "import numpy as np # linear algebra\n",
    "import pandas as pd # data processing, CSV file I/O (e.g. pd.read_csv) \n",
    "import tensorflow as tf\n",
    "from sklearn import preprocessing # one-hot-encoding\n",
    "import matplotlib.pyplot as plt  # plot \n",
    "from sklearn.model_selection import train_test_split, KFold, cross_val_score #  kflod validation\n",
    "from keras.models import Sequential # model \n",
    "from keras.layers import Dense, Dropout  # dropout\n",
    "from sklearn.model_selection import train_test_split # 划分数据集\n",
    "from sklearn import metrics # 评估模型\n",
    "from sklearn.metrics import confusion_matrix # 混淆矩阵"
   ]
  },
  {
   "cell_type": "code",
   "execution_count": 2,
   "metadata": {},
   "outputs": [
    {
     "data": {
      "text/plain": [
       "False"
      ]
     },
     "execution_count": 2,
     "metadata": {},
     "output_type": "execute_result"
    }
   ],
   "source": [
    "#　查看是否在使用gpu进行训练\n",
    "tf.test.is_gpu_available()"
   ]
  },
  {
   "cell_type": "code",
   "execution_count": 3,
   "metadata": {},
   "outputs": [
    {
     "name": "stdout",
     "output_type": "stream",
     "text": [
      "/home/mastlab-zl/anaconda3/envs/tf-cpu/bin/python\n"
     ]
    }
   ],
   "source": [
    "#　查看使用的是哪一个虚拟环境\n",
    "!which python"
   ]
  },
  {
   "cell_type": "code",
   "execution_count": 4,
   "metadata": {},
   "outputs": [],
   "source": [
    "# 准备数据\n",
    "df = pd.read_csv('output_normalized_cmu.csv', header=0)\n",
    "seed = 42"
   ]
  },
  {
   "cell_type": "code",
   "execution_count": 5,
   "metadata": {},
   "outputs": [],
   "source": [
    "# x为36维特征\n",
    "x = df.loc[:, :'17_y'].astype(float)\n",
    "# y为动作种类（标签）\n",
    "y = df.loc[:,['type_index'] ]\n",
    "# 将动作类别字段转换为one-hot-encoding\n",
    "encoder =  preprocessing.LabelBinarizer()\n",
    "dummy_y = encoder.fit_transform(y)\n",
    "labels_name = ['Stand', 'Wave', 'Flap', 'Squat', 'Bowling']"
   ]
  },
  {
   "cell_type": "code",
   "execution_count": 6,
   "metadata": {},
   "outputs": [
    {
     "data": {
      "text/html": [
       "<div>\n",
       "<style scoped>\n",
       "    .dataframe tbody tr th:only-of-type {\n",
       "        vertical-align: middle;\n",
       "    }\n",
       "\n",
       "    .dataframe tbody tr th {\n",
       "        vertical-align: top;\n",
       "    }\n",
       "\n",
       "    .dataframe thead th {\n",
       "        text-align: right;\n",
       "    }\n",
       "</style>\n",
       "<table border=\"1\" class=\"dataframe\">\n",
       "  <thead>\n",
       "    <tr style=\"text-align: right;\">\n",
       "      <th></th>\n",
       "      <th>type_index</th>\n",
       "    </tr>\n",
       "  </thead>\n",
       "  <tbody>\n",
       "    <tr>\n",
       "      <th>0</th>\n",
       "      <td>0</td>\n",
       "    </tr>\n",
       "    <tr>\n",
       "      <th>1</th>\n",
       "      <td>0</td>\n",
       "    </tr>\n",
       "    <tr>\n",
       "      <th>2</th>\n",
       "      <td>0</td>\n",
       "    </tr>\n",
       "    <tr>\n",
       "      <th>3</th>\n",
       "      <td>0</td>\n",
       "    </tr>\n",
       "    <tr>\n",
       "      <th>4</th>\n",
       "      <td>0</td>\n",
       "    </tr>\n",
       "    <tr>\n",
       "      <th>...</th>\n",
       "      <td>...</td>\n",
       "    </tr>\n",
       "    <tr>\n",
       "      <th>2190</th>\n",
       "      <td>4</td>\n",
       "    </tr>\n",
       "    <tr>\n",
       "      <th>2191</th>\n",
       "      <td>4</td>\n",
       "    </tr>\n",
       "    <tr>\n",
       "      <th>2192</th>\n",
       "      <td>4</td>\n",
       "    </tr>\n",
       "    <tr>\n",
       "      <th>2193</th>\n",
       "      <td>4</td>\n",
       "    </tr>\n",
       "    <tr>\n",
       "      <th>2194</th>\n",
       "      <td>4</td>\n",
       "    </tr>\n",
       "  </tbody>\n",
       "</table>\n",
       "<p>2195 rows × 1 columns</p>\n",
       "</div>"
      ],
      "text/plain": [
       "      type_index\n",
       "0              0\n",
       "1              0\n",
       "2              0\n",
       "3              0\n",
       "4              0\n",
       "...          ...\n",
       "2190           4\n",
       "2191           4\n",
       "2192           4\n",
       "2193           4\n",
       "2194           4\n",
       "\n",
       "[2195 rows x 1 columns]"
      ]
     },
     "execution_count": 6,
     "metadata": {},
     "output_type": "execute_result"
    }
   ],
   "source": [
    "y"
   ]
  },
  {
   "cell_type": "code",
   "execution_count": 7,
   "metadata": {},
   "outputs": [
    {
     "data": {
      "text/plain": [
       "array([[1, 0, 0, 0, 0],\n",
       "       [1, 0, 0, 0, 0],\n",
       "       [1, 0, 0, 0, 0],\n",
       "       ...,\n",
       "       [0, 0, 0, 0, 1],\n",
       "       [0, 0, 0, 0, 1],\n",
       "       [0, 0, 0, 0, 1]])"
      ]
     },
     "execution_count": 7,
     "metadata": {},
     "output_type": "execute_result"
    }
   ],
   "source": [
    "dummy_y"
   ]
  },
  {
   "cell_type": "code",
   "execution_count": 8,
   "metadata": {},
   "outputs": [
    {
     "name": "stdout",
     "output_type": "stream",
     "text": [
      "训练集大小: 1317 验证集大小: 439 测试集大小: 439\n"
     ]
    }
   ],
   "source": [
    "# 划分数据集\n",
    "x_temp,x_test,y_temp,y_test = train_test_split(x, dummy_y, test_size=0.2, random_state=seed) # 第一次划分，划分出20%为测试集：x_test, y_test\n",
    "x_train, x_validation, y_train, y_validation = train_test_split(x_temp, y_temp, test_size=0.25, random_state=seed) # 第二次划分，划分出60%的训练集和20%的验证集\n",
    "print('训练集大小:', len(x_train),  '验证集大小:', len(x_validation),  '测试集大小:', len(x_test))"
   ]
  },
  {
   "cell_type": "code",
   "execution_count": 9,
   "metadata": {},
   "outputs": [],
   "source": [
    "# # 导出划分好的训练集、验证集和测试集\n",
    "# train= np.column_stack((x_train,y_train))\n",
    "# np.savetxt('DNN_train_set.csv',train, delimiter = ',')\n",
    "\n",
    "# validation = np.column_stack((x_validation,y_validation))\n",
    "# np.savetxt('DNN_validation_set.csv',validation, delimiter = ',')\n",
    "\n",
    "# test = np.column_stack((x_test, y_test))\n",
    "# np.savetxt('DNN_test_set.csv', test, delimiter = ',')"
   ]
  },
  {
   "cell_type": "code",
   "execution_count": 10,
   "metadata": {},
   "outputs": [
    {
     "name": "stdout",
     "output_type": "stream",
     "text": [
      "WARNING:tensorflow:From /home/mastlab-zl/anaconda3/envs/tf-cpu/lib/python3.7/site-packages/keras/backend/tensorflow_backend.py:74: The name tf.get_default_graph is deprecated. Please use tf.compat.v1.get_default_graph instead.\n",
      "\n",
      "WARNING:tensorflow:From /home/mastlab-zl/anaconda3/envs/tf-cpu/lib/python3.7/site-packages/keras/backend/tensorflow_backend.py:517: The name tf.placeholder is deprecated. Please use tf.compat.v1.placeholder instead.\n",
      "\n",
      "WARNING:tensorflow:From /home/mastlab-zl/anaconda3/envs/tf-cpu/lib/python3.7/site-packages/keras/backend/tensorflow_backend.py:4138: The name tf.random_uniform is deprecated. Please use tf.random.uniform instead.\n",
      "\n",
      "WARNING:tensorflow:From /home/mastlab-zl/anaconda3/envs/tf-cpu/lib/python3.7/site-packages/keras/optimizers.py:790: The name tf.train.Optimizer is deprecated. Please use tf.compat.v1.train.Optimizer instead.\n",
      "\n",
      "WARNING:tensorflow:From /home/mastlab-zl/anaconda3/envs/tf-cpu/lib/python3.7/site-packages/keras/backend/tensorflow_backend.py:3295: The name tf.log is deprecated. Please use tf.math.log instead.\n",
      "\n"
     ]
    }
   ],
   "source": [
    "# 定义模型\n",
    "model = Sequential()\n",
    "model.add(Dense(input_dim=36, activation=\"relu\", units=16))\n",
    "# model.add(Dropout(0.2))\n",
    "model.add(Dense(units=8, activation='relu'))\n",
    "# model.add(Dropout(0.2))\n",
    "# model.add(Dense(units=16, activation='relu'))\n",
    "# model.add(Dropout(0.2))\n",
    "model.add(Dense(activation=\"softmax\", units=5))\n",
    "model.compile(loss='categorical_crossentropy', optimizer='adam', metrics=['accuracy'])"
   ]
  },
  {
   "cell_type": "code",
   "execution_count": 11,
   "metadata": {},
   "outputs": [],
   "source": [
    "def show_train_history(train_history,train,validation):\n",
    "    plt.plot(train_history.history[train])\n",
    "    plt.plot(train_history.history[validation])\n",
    "    plt.title('Train History')\n",
    "    plt.ylabel(train)\n",
    "    plt.xlabel('Epoch')\n",
    "    plt.legend(['train','validation'],loc='upper left')\n",
    "    plt.show()"
   ]
  },
  {
   "cell_type": "code",
   "execution_count": 12,
   "metadata": {},
   "outputs": [
    {
     "name": "stdout",
     "output_type": "stream",
     "text": [
      "WARNING:tensorflow:From /home/mastlab-zl/anaconda3/envs/tf-cpu/lib/python3.7/site-packages/tensorflow_core/python/ops/math_grad.py:1424: where (from tensorflow.python.ops.array_ops) is deprecated and will be removed in a future version.\n",
      "Instructions for updating:\n",
      "Use tf.where in 2.0, which has the same broadcast rule as np.where\n",
      "WARNING:tensorflow:From /home/mastlab-zl/anaconda3/envs/tf-cpu/lib/python3.7/site-packages/keras/backend/tensorflow_backend.py:986: The name tf.assign_add is deprecated. Please use tf.compat.v1.assign_add instead.\n",
      "\n",
      "WARNING:tensorflow:From /home/mastlab-zl/anaconda3/envs/tf-cpu/lib/python3.7/site-packages/keras/backend/tensorflow_backend.py:973: The name tf.assign is deprecated. Please use tf.compat.v1.assign instead.\n",
      "\n",
      "WARNING:tensorflow:From /home/mastlab-zl/anaconda3/envs/tf-cpu/lib/python3.7/site-packages/keras/backend/tensorflow_backend.py:2741: The name tf.Session is deprecated. Please use tf.compat.v1.Session instead.\n",
      "\n",
      "Train on 1317 samples, validate on 439 samples\n",
      "Epoch 1/100\n",
      "WARNING:tensorflow:From /home/mastlab-zl/anaconda3/envs/tf-cpu/lib/python3.7/site-packages/keras/backend/tensorflow_backend.py:174: The name tf.get_default_session is deprecated. Please use tf.compat.v1.get_default_session instead.\n",
      "\n",
      "WARNING:tensorflow:From /home/mastlab-zl/anaconda3/envs/tf-cpu/lib/python3.7/site-packages/keras/backend/tensorflow_backend.py:181: The name tf.ConfigProto is deprecated. Please use tf.compat.v1.ConfigProto instead.\n",
      "\n",
      "WARNING:tensorflow:From /home/mastlab-zl/anaconda3/envs/tf-cpu/lib/python3.7/site-packages/keras/backend/tensorflow_backend.py:190: The name tf.global_variables is deprecated. Please use tf.compat.v1.global_variables instead.\n",
      "\n",
      "WARNING:tensorflow:From /home/mastlab-zl/anaconda3/envs/tf-cpu/lib/python3.7/site-packages/keras/backend/tensorflow_backend.py:199: The name tf.is_variable_initialized is deprecated. Please use tf.compat.v1.is_variable_initialized instead.\n",
      "\n",
      "WARNING:tensorflow:From /home/mastlab-zl/anaconda3/envs/tf-cpu/lib/python3.7/site-packages/keras/backend/tensorflow_backend.py:206: The name tf.variables_initializer is deprecated. Please use tf.compat.v1.variables_initializer instead.\n",
      "\n",
      " - 1s - loss: 1.5642 - acc: 0.2012 - val_loss: 1.5570 - val_acc: 0.2460\n",
      "Epoch 2/100\n",
      " - 0s - loss: 1.5065 - acc: 0.3166 - val_loss: 1.4935 - val_acc: 0.4237\n",
      "Epoch 3/100\n",
      " - 0s - loss: 1.4452 - acc: 0.4062 - val_loss: 1.4341 - val_acc: 0.5011\n",
      "Epoch 4/100\n",
      " - 0s - loss: 1.3646 - acc: 0.5604 - val_loss: 1.3640 - val_acc: 0.6241\n",
      "Epoch 5/100\n",
      " - 0s - loss: 1.2745 - acc: 0.6325 - val_loss: 1.2636 - val_acc: 0.5740\n",
      "Epoch 6/100\n",
      " - 0s - loss: 1.1636 - acc: 0.5976 - val_loss: 1.1338 - val_acc: 0.6674\n",
      "Epoch 7/100\n",
      " - 0s - loss: 1.0353 - acc: 0.6849 - val_loss: 1.0327 - val_acc: 0.6560\n",
      "Epoch 8/100\n",
      " - 0s - loss: 0.9343 - acc: 0.6948 - val_loss: 0.9331 - val_acc: 0.6879\n",
      "Epoch 9/100\n",
      " - 0s - loss: 0.8431 - acc: 0.8125 - val_loss: 0.8424 - val_acc: 0.7927\n",
      "Epoch 10/100\n",
      " - 0s - loss: 0.7559 - acc: 0.8573 - val_loss: 0.7590 - val_acc: 0.8292\n",
      "Epoch 11/100\n",
      " - 0s - loss: 0.6779 - acc: 0.8914 - val_loss: 0.6830 - val_acc: 0.8610\n",
      "Epoch 12/100\n",
      " - 0s - loss: 0.6129 - acc: 0.8945 - val_loss: 0.6171 - val_acc: 0.8702\n",
      "Epoch 13/100\n",
      " - 0s - loss: 0.5505 - acc: 0.9036 - val_loss: 0.5600 - val_acc: 0.8724\n",
      "Epoch 14/100\n",
      " - 0s - loss: 0.4996 - acc: 0.9074 - val_loss: 0.5210 - val_acc: 0.8975\n",
      "Epoch 15/100\n",
      " - 0s - loss: 0.4556 - acc: 0.9096 - val_loss: 0.4791 - val_acc: 0.8747\n",
      "Epoch 16/100\n",
      " - 0s - loss: 0.4167 - acc: 0.9157 - val_loss: 0.4333 - val_acc: 0.8907\n",
      "Epoch 17/100\n",
      " - 0s - loss: 0.3841 - acc: 0.9172 - val_loss: 0.4075 - val_acc: 0.8884\n",
      "Epoch 18/100\n",
      " - 0s - loss: 0.3587 - acc: 0.9203 - val_loss: 0.3819 - val_acc: 0.8998\n",
      "Epoch 19/100\n",
      " - 0s - loss: 0.3381 - acc: 0.9226 - val_loss: 0.3626 - val_acc: 0.8952\n",
      "Epoch 20/100\n",
      " - 0s - loss: 0.3225 - acc: 0.9241 - val_loss: 0.3597 - val_acc: 0.8952\n",
      "Epoch 21/100\n",
      " - 0s - loss: 0.3091 - acc: 0.9241 - val_loss: 0.3283 - val_acc: 0.9043\n",
      "Epoch 22/100\n",
      " - 0s - loss: 0.2890 - acc: 0.9271 - val_loss: 0.3180 - val_acc: 0.9180\n",
      "Epoch 23/100\n",
      " - 0s - loss: 0.2791 - acc: 0.9256 - val_loss: 0.3077 - val_acc: 0.9043\n",
      "Epoch 24/100\n",
      " - 0s - loss: 0.2686 - acc: 0.9301 - val_loss: 0.2894 - val_acc: 0.9089\n",
      "Epoch 25/100\n",
      " - 0s - loss: 0.2514 - acc: 0.9309 - val_loss: 0.2835 - val_acc: 0.9203\n",
      "Epoch 26/100\n",
      " - 0s - loss: 0.2434 - acc: 0.9347 - val_loss: 0.2657 - val_acc: 0.9112\n",
      "Epoch 27/100\n",
      " - 0s - loss: 0.2319 - acc: 0.9393 - val_loss: 0.2533 - val_acc: 0.9134\n",
      "Epoch 28/100\n",
      " - 0s - loss: 0.2244 - acc: 0.9370 - val_loss: 0.2508 - val_acc: 0.9203\n",
      "Epoch 29/100\n",
      " - 0s - loss: 0.2190 - acc: 0.9423 - val_loss: 0.2397 - val_acc: 0.9294\n",
      "Epoch 30/100\n",
      " - 0s - loss: 0.2068 - acc: 0.9446 - val_loss: 0.2264 - val_acc: 0.9248\n",
      "Epoch 31/100\n",
      " - 0s - loss: 0.2023 - acc: 0.9431 - val_loss: 0.2225 - val_acc: 0.9271\n",
      "Epoch 32/100\n",
      " - 0s - loss: 0.1983 - acc: 0.9446 - val_loss: 0.2149 - val_acc: 0.9385\n",
      "Epoch 33/100\n",
      " - 0s - loss: 0.1873 - acc: 0.9461 - val_loss: 0.2078 - val_acc: 0.9431\n",
      "Epoch 34/100\n",
      " - 0s - loss: 0.1843 - acc: 0.9499 - val_loss: 0.1998 - val_acc: 0.9453\n",
      "Epoch 35/100\n",
      " - 0s - loss: 0.1780 - acc: 0.9537 - val_loss: 0.1945 - val_acc: 0.9431\n",
      "Epoch 36/100\n",
      " - 0s - loss: 0.1722 - acc: 0.9499 - val_loss: 0.2129 - val_acc: 0.9271\n",
      "Epoch 37/100\n",
      " - 0s - loss: 0.1762 - acc: 0.9552 - val_loss: 0.1875 - val_acc: 0.9339\n",
      "Epoch 38/100\n",
      " - 0s - loss: 0.1624 - acc: 0.9605 - val_loss: 0.1729 - val_acc: 0.9499\n",
      "Epoch 39/100\n",
      " - 0s - loss: 0.1545 - acc: 0.9666 - val_loss: 0.1655 - val_acc: 0.9544\n",
      "Epoch 40/100\n",
      " - 0s - loss: 0.1505 - acc: 0.9689 - val_loss: 0.1612 - val_acc: 0.9613\n",
      "Epoch 41/100\n",
      " - 0s - loss: 0.1420 - acc: 0.9658 - val_loss: 0.1724 - val_acc: 0.9636\n",
      "Epoch 42/100\n",
      " - 0s - loss: 0.1392 - acc: 0.9727 - val_loss: 0.1507 - val_acc: 0.9681\n",
      "Epoch 43/100\n",
      " - 0s - loss: 0.1333 - acc: 0.9727 - val_loss: 0.1476 - val_acc: 0.9749\n",
      "Epoch 44/100\n",
      " - 0s - loss: 0.1332 - acc: 0.9719 - val_loss: 0.1430 - val_acc: 0.9727\n",
      "Epoch 45/100\n",
      " - 0s - loss: 0.1262 - acc: 0.9727 - val_loss: 0.1386 - val_acc: 0.9772\n",
      "Epoch 46/100\n",
      " - 0s - loss: 0.1267 - acc: 0.9727 - val_loss: 0.1411 - val_acc: 0.9727\n",
      "Epoch 47/100\n",
      " - 0s - loss: 0.1169 - acc: 0.9749 - val_loss: 0.1364 - val_acc: 0.9749\n",
      "Epoch 48/100\n",
      " - 0s - loss: 0.1150 - acc: 0.9757 - val_loss: 0.1270 - val_acc: 0.9727\n",
      "Epoch 49/100\n",
      " - 0s - loss: 0.1128 - acc: 0.9749 - val_loss: 0.1268 - val_acc: 0.9749\n",
      "Epoch 50/100\n",
      " - 0s - loss: 0.1069 - acc: 0.9795 - val_loss: 0.1229 - val_acc: 0.9749\n",
      "Epoch 51/100\n",
      " - 0s - loss: 0.1079 - acc: 0.9787 - val_loss: 0.1190 - val_acc: 0.9772\n",
      "Epoch 52/100\n",
      " - 0s - loss: 0.1014 - acc: 0.9780 - val_loss: 0.1192 - val_acc: 0.9795\n",
      "Epoch 53/100\n",
      " - 0s - loss: 0.1019 - acc: 0.9810 - val_loss: 0.1125 - val_acc: 0.9772\n",
      "Epoch 54/100\n",
      " - 0s - loss: 0.0996 - acc: 0.9772 - val_loss: 0.1129 - val_acc: 0.9727\n",
      "Epoch 55/100\n",
      " - 0s - loss: 0.0938 - acc: 0.9818 - val_loss: 0.1191 - val_acc: 0.9727\n",
      "Epoch 56/100\n",
      " - 0s - loss: 0.0921 - acc: 0.9833 - val_loss: 0.1069 - val_acc: 0.9727\n",
      "Epoch 57/100\n",
      " - 0s - loss: 0.0878 - acc: 0.9810 - val_loss: 0.1093 - val_acc: 0.9795\n",
      "Epoch 58/100\n",
      " - 0s - loss: 0.0881 - acc: 0.9810 - val_loss: 0.1089 - val_acc: 0.9704\n",
      "Epoch 59/100\n",
      " - 0s - loss: 0.0840 - acc: 0.9825 - val_loss: 0.0994 - val_acc: 0.9795\n",
      "Epoch 60/100\n",
      " - 0s - loss: 0.0859 - acc: 0.9818 - val_loss: 0.1007 - val_acc: 0.9795\n",
      "Epoch 61/100\n",
      " - 0s - loss: 0.0800 - acc: 0.9841 - val_loss: 0.0974 - val_acc: 0.9727\n",
      "Epoch 62/100\n",
      " - 0s - loss: 0.0773 - acc: 0.9841 - val_loss: 0.0975 - val_acc: 0.9795\n",
      "Epoch 63/100\n",
      " - 0s - loss: 0.0912 - acc: 0.9742 - val_loss: 0.0981 - val_acc: 0.9818\n",
      "Epoch 64/100\n",
      " - 0s - loss: 0.0800 - acc: 0.9795 - val_loss: 0.0912 - val_acc: 0.9818\n",
      "Epoch 65/100\n",
      " - 0s - loss: 0.0727 - acc: 0.9833 - val_loss: 0.0882 - val_acc: 0.9841\n",
      "Epoch 66/100\n",
      " - 0s - loss: 0.0714 - acc: 0.9879 - val_loss: 0.0893 - val_acc: 0.9795\n",
      "Epoch 67/100\n",
      " - 0s - loss: 0.0755 - acc: 0.9810 - val_loss: 0.0935 - val_acc: 0.9818\n",
      "Epoch 68/100\n",
      " - 0s - loss: 0.0773 - acc: 0.9871 - val_loss: 0.0861 - val_acc: 0.9818\n",
      "Epoch 69/100\n",
      " - 0s - loss: 0.0683 - acc: 0.9856 - val_loss: 0.0878 - val_acc: 0.9818\n",
      "Epoch 70/100\n",
      " - 0s - loss: 0.0665 - acc: 0.9863 - val_loss: 0.0855 - val_acc: 0.9818\n",
      "Epoch 71/100\n",
      " - 0s - loss: 0.0637 - acc: 0.9886 - val_loss: 0.0951 - val_acc: 0.9681\n",
      "Epoch 72/100\n",
      " - 0s - loss: 0.0649 - acc: 0.9871 - val_loss: 0.0835 - val_acc: 0.9818\n",
      "Epoch 73/100\n",
      " - 0s - loss: 0.0615 - acc: 0.9886 - val_loss: 0.0875 - val_acc: 0.9749\n",
      "Epoch 74/100\n",
      " - 0s - loss: 0.0621 - acc: 0.9871 - val_loss: 0.0806 - val_acc: 0.9818\n",
      "Epoch 75/100\n",
      " - 0s - loss: 0.0606 - acc: 0.9879 - val_loss: 0.0812 - val_acc: 0.9863\n",
      "Epoch 76/100\n",
      " - 0s - loss: 0.0610 - acc: 0.9863 - val_loss: 0.0841 - val_acc: 0.9795\n",
      "Epoch 77/100\n",
      " - 0s - loss: 0.0610 - acc: 0.9848 - val_loss: 0.0770 - val_acc: 0.9863\n",
      "Epoch 78/100\n",
      " - 0s - loss: 0.0562 - acc: 0.9886 - val_loss: 0.0788 - val_acc: 0.9818\n",
      "Epoch 79/100\n",
      " - 0s - loss: 0.0556 - acc: 0.9901 - val_loss: 0.0822 - val_acc: 0.9772\n",
      "Epoch 80/100\n",
      " - 0s - loss: 0.0581 - acc: 0.9863 - val_loss: 0.0737 - val_acc: 0.9841\n",
      "Epoch 81/100\n",
      " - 0s - loss: 0.0531 - acc: 0.9886 - val_loss: 0.0734 - val_acc: 0.9818\n",
      "Epoch 82/100\n",
      " - 0s - loss: 0.0538 - acc: 0.9871 - val_loss: 0.0717 - val_acc: 0.9841\n",
      "Epoch 83/100\n",
      " - 0s - loss: 0.0545 - acc: 0.9886 - val_loss: 0.0716 - val_acc: 0.9818\n",
      "Epoch 84/100\n",
      " - 0s - loss: 0.0527 - acc: 0.9879 - val_loss: 0.0729 - val_acc: 0.9841\n",
      "Epoch 85/100\n",
      " - 0s - loss: 0.0534 - acc: 0.9886 - val_loss: 0.0715 - val_acc: 0.9818\n",
      "Epoch 86/100\n",
      " - 0s - loss: 0.0494 - acc: 0.9894 - val_loss: 0.0702 - val_acc: 0.9841\n",
      "Epoch 87/100\n",
      " - 0s - loss: 0.0488 - acc: 0.9901 - val_loss: 0.0676 - val_acc: 0.9863\n",
      "Epoch 88/100\n",
      " - 0s - loss: 0.0472 - acc: 0.9886 - val_loss: 0.0715 - val_acc: 0.9863\n",
      "Epoch 89/100\n",
      " - 0s - loss: 0.0465 - acc: 0.9901 - val_loss: 0.0700 - val_acc: 0.9863\n",
      "Epoch 90/100\n",
      " - 0s - loss: 0.0506 - acc: 0.9924 - val_loss: 0.0700 - val_acc: 0.9772\n",
      "Epoch 91/100\n",
      " - 0s - loss: 0.0500 - acc: 0.9886 - val_loss: 0.0651 - val_acc: 0.9841\n",
      "Epoch 92/100\n",
      " - 0s - loss: 0.0448 - acc: 0.9909 - val_loss: 0.0649 - val_acc: 0.9841\n",
      "Epoch 93/100\n",
      " - 0s - loss: 0.0431 - acc: 0.9916 - val_loss: 0.0637 - val_acc: 0.9818\n",
      "Epoch 94/100\n",
      " - 0s - loss: 0.0427 - acc: 0.9916 - val_loss: 0.0716 - val_acc: 0.9818\n",
      "Epoch 95/100\n",
      " - 0s - loss: 0.0437 - acc: 0.9932 - val_loss: 0.0628 - val_acc: 0.9841\n",
      "Epoch 96/100\n",
      " - 0s - loss: 0.0442 - acc: 0.9894 - val_loss: 0.0626 - val_acc: 0.9863\n",
      "Epoch 97/100\n",
      " - 0s - loss: 0.0407 - acc: 0.9901 - val_loss: 0.0640 - val_acc: 0.9818\n",
      "Epoch 98/100\n",
      " - 0s - loss: 0.0428 - acc: 0.9916 - val_loss: 0.0599 - val_acc: 0.9818\n",
      "Epoch 99/100\n",
      " - 0s - loss: 0.0385 - acc: 0.9924 - val_loss: 0.0652 - val_acc: 0.9863\n",
      "Epoch 100/100\n",
      " - 0s - loss: 0.0387 - acc: 0.9924 - val_loss: 0.0591 - val_acc: 0.9841\n"
     ]
    }
   ],
   "source": [
    "# 拟合模型\n",
    "train_history = model.fit(x_train, y_train,  validation_data=(x_validation, y_validation), batch_size=32, epochs=100, shuffle=True, verbose=2)"
   ]
  },
  {
   "cell_type": "code",
   "execution_count": 13,
   "metadata": {},
   "outputs": [
    {
     "name": "stdout",
     "output_type": "stream",
     "text": [
      "_________________________________________________________________\n",
      "Layer (type)                 Output Shape              Param #   \n",
      "=================================================================\n",
      "dense_1 (Dense)              (None, 16)                592       \n",
      "_________________________________________________________________\n",
      "dense_2 (Dense)              (None, 8)                 136       \n",
      "_________________________________________________________________\n",
      "dense_3 (Dense)              (None, 5)                 45        \n",
      "=================================================================\n",
      "Total params: 773\n",
      "Trainable params: 773\n",
      "Non-trainable params: 0\n",
      "_________________________________________________________________\n"
     ]
    }
   ],
   "source": [
    "model.summary()"
   ]
  },
  {
   "cell_type": "code",
   "execution_count": 14,
   "metadata": {},
   "outputs": [
    {
     "data": {
      "image/png": "[encoded data removed]",
      "text/plain": [
       "<Figure size 432x288 with 1 Axes>"
      ]
     },
     "metadata": {
      "needs_background": "light"
     },
     "output_type": "display_data"
    },
    {
     "data": {
      "image/png": "[encoded data removed]",
      "text/plain": [
       "<Figure size 432x288 with 1 Axes>"
      ]
     },
     "metadata": {
      "needs_background": "light"
     },
     "output_type": "display_data"
    }
   ],
   "source": [
    "show_train_history(train_history,'acc','val_acc')\n",
    "show_train_history(train_history,'loss','val_loss')"
   ]
  },
  {
   "cell_type": "code",
   "execution_count": 15,
   "metadata": {},
   "outputs": [
    {
     "name": "stdout",
     "output_type": "stream",
     "text": [
      "Evaluation on test data: loss = 0.040999 accuracy = 99.317% \n",
      "\n"
     ]
    }
   ],
   "source": [
    "# 在test_set上测试\n",
    "eval = model.evaluate(x_test, y_test, verbose=0)\n",
    "print(\"Evaluation on test data: loss = %0.6f accuracy = %0.3f%% \\n\"  % (eval[0], eval[1] * 100) )"
   ]
  },
  {
   "cell_type": "code",
   "execution_count": 16,
   "metadata": {},
   "outputs": [
    {
     "name": "stdout",
     "output_type": "stream",
     "text": [
      "              precision    recall  f1-score   support\n",
      "\n",
      "       Stand     0.9820    1.0000    0.9909       109\n",
      "        Wave     1.0000    1.0000    1.0000        89\n",
      "        Flap     0.9894    1.0000    0.9947        93\n",
      "       Squat     1.0000    1.0000    1.0000        88\n",
      "     Bowling     1.0000    0.9500    0.9744        60\n",
      "\n",
      "    accuracy                         0.9932       439\n",
      "   macro avg     0.9943    0.9900    0.9920       439\n",
      "weighted avg     0.9933    0.9932    0.9931       439\n",
      "\n"
     ]
    }
   ],
   "source": [
    "# 评估模型\n",
    "y_pred = encoder.inverse_transform(model.predict(x_test))\n",
    "y_true = encoder.inverse_transform(y_test)\n",
    "print(metrics.classification_report(y_true, y_pred, digits=4, target_names=labels_name))"
   ]
  },
  {
   "cell_type": "code",
   "execution_count": 17,
   "metadata": {},
   "outputs": [
    {
     "name": "stdout",
     "output_type": "stream",
     "text": [
      "[[109   0   0   0   0]\n",
      " [  0  89   0   0   0]\n",
      " [  0   0  93   0   0]\n",
      " [  0   0   0  88   0]\n",
      " [  2   0   1   0  57]]\n"
     ]
    }
   ],
   "source": [
    "# 绘制混淆矩阵\n",
    "def plot_Matrix(cm, classes, title=None,  cmap=plt.cm.Blues):\n",
    "    plt.rc('font',family='Times New Roman',size='8')   # 设置字体样式、大小\n",
    "    \n",
    "    # 按行进行归一化\n",
    "    cm = cm.astype('float') / cm.sum(axis=1)[:, np.newaxis]\n",
    "    print(\"Normalized confusion matrix\")\n",
    "    str_cm = cm.astype(np.str).tolist()\n",
    "    for row in str_cm:\n",
    "        print('\\t'.join(row))\n",
    "    # 占比1%以下的单元格，设为0，防止在最后的颜色中体现出来\n",
    "    for i in range(cm.shape[0]):\n",
    "        for j in range(cm.shape[1]):\n",
    "            if int(cm[i, j]*100 + 0.5) == 0:\n",
    "                cm[i, j]=0\n",
    "\n",
    "    fig, ax = plt.subplots()\n",
    "    im = ax.imshow(cm, interpolation='nearest', cmap=cmap)\n",
    "    # ax.figure.colorbar(im, ax=ax) # 侧边的颜色条带\n",
    "    \n",
    "    ax.set(xticks=np.arange(cm.shape[1]),\n",
    "           yticks=np.arange(cm.shape[0]),\n",
    "           xticklabels=classes, yticklabels=classes,\n",
    "           title=title,\n",
    "           ylabel='Actual',\n",
    "           xlabel='Predicted')\n",
    "\n",
    "    # 通过绘制格网，模拟每个单元格的边框\n",
    "    ax.set_xticks(np.arange(cm.shape[1]+1)-.5, minor=True)\n",
    "    ax.set_yticks(np.arange(cm.shape[0]+1)-.5, minor=True)\n",
    "    ax.grid(which=\"minor\", color=\"gray\", linestyle='-', linewidth=0.2)\n",
    "    ax.tick_params(which=\"minor\", bottom=False, left=False)\n",
    "\n",
    "    # 将x轴上的lables旋转45度\n",
    "    plt.setp(ax.get_xticklabels(), rotation=45, ha=\"right\",\n",
    "             rotation_mode=\"anchor\")\n",
    "\n",
    "    # 标注百分比信息\n",
    "    fmt = 'd'\n",
    "    thresh = cm.max() / 2.\n",
    "    for i in range(cm.shape[0]):\n",
    "        for j in range(cm.shape[1]):\n",
    "            if int(cm[i, j]*100 + 0.5) > 0:\n",
    "                ax.text(j, i, format(int(cm[i, j]*100 + 0.5) , fmt) + '%',\n",
    "                        ha=\"center\", va=\"center\",\n",
    "                        color=\"white\"  if cm[i, j] > thresh else \"black\")\n",
    "    fig.tight_layout()\n",
    "    plt.savefig('cm.png', dpi=300)\n",
    "    plt.show()\n",
    "cm = confusion_matrix(y_true, y_pred)\n",
    "print(cm)"
   ]
  },
  {
   "cell_type": "code",
   "execution_count": 18,
   "metadata": {},
   "outputs": [
    {
     "name": "stdout",
     "output_type": "stream",
     "text": [
      "Normalized confusion matrix\n",
      "1.0\t0.0\t0.0\t0.0\t0.0\n",
      "0.0\t1.0\t0.0\t0.0\t0.0\n",
      "0.0\t0.0\t1.0\t0.0\t0.0\n",
      "0.0\t0.0\t0.0\t1.0\t0.0\n",
      "0.03333333333333333\t0.0\t0.016666666666666666\t0.0\t0.95\n"
     ]
    },
    {
     "data": {
      "image/png": "[encoded data removed]",
      "text/plain": [
       "<Figure size 432x288 with 1 Axes>"
      ]
     },
     "metadata": {
      "needs_background": "light"
     },
     "output_type": "display_data"
    }
   ],
   "source": [
    "plot_Matrix(cm, labels_name, \"DNN Confusion Matrix\")"
   ]
  },
  {
   "cell_type": "code",
   "execution_count": 19,
   "metadata": {},
   "outputs": [],
   "source": [
    "# 导出模型\n",
    "# model.save('dnn_model.h5')  "
   ]
  },
  {
   "cell_type": "code",
   "execution_count": 20,
   "metadata": {},
   "outputs": [
    {
     "name": "stdout",
     "output_type": "stream",
     "text": [
      "[2]\n"
     ]
    }
   ],
   "source": [
    "input =  [0.42, 0.0, 0.33, 0.14, 0.17, 0.14, 0.08, 0.31, 0.0, 0.48, 0.5, 0.14, 0.75, 0.1, 1.0, 0.03, 0.25, 0.48, 0.25, 0.76, 0.17, 1.0, 0.42, 0.48, 0.42, 0.76, 0.42, 1.0, 0.33, 0.0, 0.42, 0.0, 0.25, 0.0, 0.42, 0.03]\n",
    "input  = np.array(input).reshape((1, 36))\n",
    "pred_output  =  encoder.inverse_transform(model.predict(input))\n",
    "print(pred_output)"
   ]
  }
 ],
 "metadata": {
  "kernelspec": {
   "display_name": "Python [conda env:tf-cpu]",
   "language": "python",
   "name": "conda-env-tf-cpu-py"
  },
  "language_info": {
   "codemirror_mode": {
    "name": "ipython",
    "version": 3
   },
   "file_extension": ".py",
   "mimetype": "text/x-python",
   "name": "python",
   "nbconvert_exporter": "python",
   "pygments_lexer": "ipython3",
   "version": "3.7.5"
  }
 },
 "nbformat": 4,
 "nbformat_minor": 4
}
