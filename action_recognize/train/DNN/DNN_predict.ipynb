{
 "cells": [
  {
   "cell_type": "code",
   "execution_count": 1,
   "metadata": {},
   "outputs": [
    {
     "name": "stderr",
     "output_type": "stream",
     "text": [
      "Using TensorFlow backend.\n"
     ]
    }
   ],
   "source": [
    "import time\n",
    "import numpy as np # linear algebra\n",
    "import pandas as pd # data processing, CSV file I/O (e.g. pd.read_csv) \n",
    "import tensorflow as tf\n",
    "from sklearn.preprocessing import LabelBinarizer\n",
    "import matplotlib.pyplot as plt  # plot \n",
    "from sklearn.model_selection import train_test_split, KFold, cross_val_score #  kflod validation\n",
    "from keras.models import Sequential # model \n",
    "from keras.models import load_model\n",
    "from keras.layers import Dense, Dropout  # dropout\n",
    "from sklearn.model_selection import train_test_split # 划分数据集"
   ]
  },
  {
   "cell_type": "code",
   "execution_count": 2,
   "metadata": {},
   "outputs": [
    {
     "name": "stdout",
     "output_type": "stream",
     "text": [
      "False\n"
     ]
    }
   ],
   "source": [
    "#　查看是否在使用gpu进行训练\n",
    "print(tf.test.is_gpu_available())"
   ]
  },
  {
   "cell_type": "code",
   "execution_count": 3,
   "metadata": {},
   "outputs": [
    {
     "name": "stdout",
     "output_type": "stream",
     "text": [
      "/home/mastlab-zl/anaconda3/envs/tf-cpu/bin/python\n"
     ]
    }
   ],
   "source": [
    "#　查看使用的是哪一个虚拟环境\n",
    "!which python"
   ]
  },
  {
   "cell_type": "code",
   "execution_count": 4,
   "metadata": {},
   "outputs": [],
   "source": [
    "# 定义动作类型\n",
    "action = {\n",
    "    0: 'Stand',\n",
    "    1: 'Wave',\n",
    "    2: 'Flap',\n",
    "    3: 'Squat',\n",
    "    4: 'Bowling',\n",
    "}"
   ]
  },
  {
   "cell_type": "code",
   "execution_count": 5,
   "metadata": {},
   "outputs": [],
   "source": [
    "# 准备数据\n",
    "df = pd.read_csv('output_normalized_cmu.csv', header=0)\n",
    "seed = 42"
   ]
  },
  {
   "cell_type": "code",
   "execution_count": 6,
   "metadata": {},
   "outputs": [],
   "source": [
    "# x为36维特征\n",
    "X = df.loc[:, :'17_y'].astype(float)\n",
    "# y为动作种类（标签）\n",
    "Y = df.loc[:,['type_index'] ]\n",
    "encoder =  LabelBinarizer()\n",
    "dummy_Y = encoder.fit_transform(Y)"
   ]
  },
  {
   "cell_type": "code",
   "execution_count": 7,
   "metadata": {},
   "outputs": [
    {
     "data": {
      "text/plain": [
       "array([[0.5 , 0.02, 0.5 , ..., 0.03, 0.75, 0.03],\n",
       "       [0.6 , 0.02, 0.53, ..., 0.03, 0.73, 0.05],\n",
       "       [0.57, 0.02, 0.57, ..., 0.02, 0.79, 0.02],\n",
       "       ...,\n",
       "       [0.42, 0.06, 0.47, ..., 0.03, 0.58, 0.  ],\n",
       "       [0.71, 0.04, 0.5 , ..., 0.02, 0.86, 0.06],\n",
       "       [0.94, 0.21, 0.59, ..., 0.11, 0.  , 0.  ]])"
      ]
     },
     "execution_count": 7,
     "metadata": {},
     "output_type": "execute_result"
    }
   ],
   "source": [
    "X.values"
   ]
  },
  {
   "cell_type": "code",
   "execution_count": 8,
   "metadata": {},
   "outputs": [
    {
     "data": {
      "text/html": [
       "<div>\n",
       "<style scoped>\n",
       "    .dataframe tbody tr th:only-of-type {\n",
       "        vertical-align: middle;\n",
       "    }\n",
       "\n",
       "    .dataframe tbody tr th {\n",
       "        vertical-align: top;\n",
       "    }\n",
       "\n",
       "    .dataframe thead th {\n",
       "        text-align: right;\n",
       "    }\n",
       "</style>\n",
       "<table border=\"1\" class=\"dataframe\">\n",
       "  <thead>\n",
       "    <tr style=\"text-align: right;\">\n",
       "      <th></th>\n",
       "      <th>type_index</th>\n",
       "    </tr>\n",
       "  </thead>\n",
       "  <tbody>\n",
       "    <tr>\n",
       "      <th>0</th>\n",
       "      <td>0</td>\n",
       "    </tr>\n",
       "    <tr>\n",
       "      <th>1</th>\n",
       "      <td>0</td>\n",
       "    </tr>\n",
       "    <tr>\n",
       "      <th>2</th>\n",
       "      <td>0</td>\n",
       "    </tr>\n",
       "    <tr>\n",
       "      <th>3</th>\n",
       "      <td>0</td>\n",
       "    </tr>\n",
       "    <tr>\n",
       "      <th>4</th>\n",
       "      <td>0</td>\n",
       "    </tr>\n",
       "    <tr>\n",
       "      <th>...</th>\n",
       "      <td>...</td>\n",
       "    </tr>\n",
       "    <tr>\n",
       "      <th>2190</th>\n",
       "      <td>4</td>\n",
       "    </tr>\n",
       "    <tr>\n",
       "      <th>2191</th>\n",
       "      <td>4</td>\n",
       "    </tr>\n",
       "    <tr>\n",
       "      <th>2192</th>\n",
       "      <td>4</td>\n",
       "    </tr>\n",
       "    <tr>\n",
       "      <th>2193</th>\n",
       "      <td>4</td>\n",
       "    </tr>\n",
       "    <tr>\n",
       "      <th>2194</th>\n",
       "      <td>4</td>\n",
       "    </tr>\n",
       "  </tbody>\n",
       "</table>\n",
       "<p>2195 rows × 1 columns</p>\n",
       "</div>"
      ],
      "text/plain": [
       "      type_index\n",
       "0              0\n",
       "1              0\n",
       "2              0\n",
       "3              0\n",
       "4              0\n",
       "...          ...\n",
       "2190           4\n",
       "2191           4\n",
       "2192           4\n",
       "2193           4\n",
       "2194           4\n",
       "\n",
       "[2195 rows x 1 columns]"
      ]
     },
     "execution_count": 8,
     "metadata": {},
     "output_type": "execute_result"
    }
   ],
   "source": [
    "Y"
   ]
  },
  {
   "cell_type": "code",
   "execution_count": 9,
   "metadata": {},
   "outputs": [
    {
     "name": "stdout",
     "output_type": "stream",
     "text": [
      "WARNING:tensorflow:From /home/mastlab-zl/anaconda3/envs/tf-cpu/lib/python3.7/site-packages/keras/backend/tensorflow_backend.py:517: The name tf.placeholder is deprecated. Please use tf.compat.v1.placeholder instead.\n",
      "\n",
      "WARNING:tensorflow:From /home/mastlab-zl/anaconda3/envs/tf-cpu/lib/python3.7/site-packages/keras/backend/tensorflow_backend.py:4138: The name tf.random_uniform is deprecated. Please use tf.random.uniform instead.\n",
      "\n",
      "WARNING:tensorflow:From /home/mastlab-zl/anaconda3/envs/tf-cpu/lib/python3.7/site-packages/keras/backend/tensorflow_backend.py:131: The name tf.get_default_graph is deprecated. Please use tf.compat.v1.get_default_graph instead.\n",
      "\n",
      "WARNING:tensorflow:From /home/mastlab-zl/anaconda3/envs/tf-cpu/lib/python3.7/site-packages/keras/backend/tensorflow_backend.py:133: The name tf.placeholder_with_default is deprecated. Please use tf.compat.v1.placeholder_with_default instead.\n",
      "\n",
      "WARNING:tensorflow:From /home/mastlab-zl/anaconda3/envs/tf-cpu/lib/python3.7/site-packages/keras/backend/tensorflow_backend.py:3445: calling dropout (from tensorflow.python.ops.nn_ops) with keep_prob is deprecated and will be removed in a future version.\n",
      "Instructions for updating:\n",
      "Please use `rate` instead of `keep_prob`. Rate should be set to `rate = 1 - keep_prob`.\n",
      "WARNING:tensorflow:From /home/mastlab-zl/anaconda3/envs/tf-cpu/lib/python3.7/site-packages/keras/backend/tensorflow_backend.py:174: The name tf.get_default_session is deprecated. Please use tf.compat.v1.get_default_session instead.\n",
      "\n",
      "WARNING:tensorflow:From /home/mastlab-zl/anaconda3/envs/tf-cpu/lib/python3.7/site-packages/keras/backend/tensorflow_backend.py:181: The name tf.ConfigProto is deprecated. Please use tf.compat.v1.ConfigProto instead.\n",
      "\n",
      "WARNING:tensorflow:From /home/mastlab-zl/anaconda3/envs/tf-cpu/lib/python3.7/site-packages/keras/backend/tensorflow_backend.py:186: The name tf.Session is deprecated. Please use tf.compat.v1.Session instead.\n",
      "\n",
      "WARNING:tensorflow:From /home/mastlab-zl/anaconda3/envs/tf-cpu/lib/python3.7/site-packages/keras/backend/tensorflow_backend.py:190: The name tf.global_variables is deprecated. Please use tf.compat.v1.global_variables instead.\n",
      "\n",
      "WARNING:tensorflow:From /home/mastlab-zl/anaconda3/envs/tf-cpu/lib/python3.7/site-packages/keras/backend/tensorflow_backend.py:199: The name tf.is_variable_initialized is deprecated. Please use tf.compat.v1.is_variable_initialized instead.\n",
      "\n",
      "WARNING:tensorflow:From /home/mastlab-zl/anaconda3/envs/tf-cpu/lib/python3.7/site-packages/keras/backend/tensorflow_backend.py:206: The name tf.variables_initializer is deprecated. Please use tf.compat.v1.variables_initializer instead.\n",
      "\n",
      "WARNING:tensorflow:From /home/mastlab-zl/anaconda3/envs/tf-cpu/lib/python3.7/site-packages/keras/optimizers.py:790: The name tf.train.Optimizer is deprecated. Please use tf.compat.v1.train.Optimizer instead.\n",
      "\n",
      "WARNING:tensorflow:From /home/mastlab-zl/anaconda3/envs/tf-cpu/lib/python3.7/site-packages/keras/backend/tensorflow_backend.py:3295: The name tf.log is deprecated. Please use tf.math.log instead.\n",
      "\n",
      "WARNING:tensorflow:From /home/mastlab-zl/anaconda3/envs/tf-cpu/lib/python3.7/site-packages/tensorflow_core/python/ops/math_grad.py:1424: where (from tensorflow.python.ops.array_ops) is deprecated and will be removed in a future version.\n",
      "Instructions for updating:\n",
      "Use tf.where in 2.0, which has the same broadcast rule as np.where\n",
      "WARNING:tensorflow:From /home/mastlab-zl/anaconda3/envs/tf-cpu/lib/python3.7/site-packages/keras/backend/tensorflow_backend.py:986: The name tf.assign_add is deprecated. Please use tf.compat.v1.assign_add instead.\n",
      "\n",
      "WARNING:tensorflow:From /home/mastlab-zl/anaconda3/envs/tf-cpu/lib/python3.7/site-packages/keras/backend/tensorflow_backend.py:973: The name tf.assign is deprecated. Please use tf.compat.v1.assign instead.\n",
      "\n"
     ]
    }
   ],
   "source": [
    "# 导入训练好的模型\n",
    "model = load_model('dnn_model.h5')"
   ]
  },
  {
   "cell_type": "code",
   "execution_count": 10,
   "metadata": {},
   "outputs": [],
   "source": [
    "start_time = time.time()\n",
    "# 找出所有识别错误的图片\n",
    "wrong_dict = {}\n",
    "for i in range(len(X)):\n",
    "    input_x = X.values[i, :].reshape((1,36))\n",
    "    right_y = int(Y.loc[i])\n",
    "    pred_y = model.predict(input_x)\n",
    "    pred_y=encoder.inverse_transform(pred_y)[0]\n",
    "    if pred_y != right_y:\n",
    "        wrong_dict[str(df.iloc[i, 38])]= pred_y\n",
    "\n",
    "elapsed_time = time.time() - start_time"
   ]
  },
  {
   "cell_type": "code",
   "execution_count": 11,
   "metadata": {},
   "outputs": [
    {
     "name": "stdout",
     "output_type": "stream",
     "text": [
      "以下图片识别错误：\n",
      "图片 ./input/stand/Colour 40-misc-145.png 被识别为: Wave\n",
      "图片 ./input/stand/Colour 45-misc-145.png 被识别为: Wave\n",
      "图片 ./input/flap/Colour 180-146-flap.png 被识别为: Wave\n",
      "图片 ./input/squat/Colour 777-160-squat.png 被识别为: Stand\n",
      "图片 ./input/squat/Colour 778-160-squat.png 被识别为: Bowling\n",
      "图片 ./input/squat/Colour 779-160-squat.png 被识别为: Wave\n",
      "图片 ./input/squat/Colour 829-99-squat.png 被识别为: Stand\n",
      "图片 ./input/squat/Colour 827-99-squat.png 被识别为: Stand\n",
      "图片 ./input/squat/Colour 826-99-squat.png 被识别为: Stand\n",
      "图片 ./input/bowling/Colour 223 (29)-bowling.png 被识别为: Squat\n",
      "图片 ./input/bowling/Colour 136 (28)-bowling.png 被识别为: Flap\n",
      "图片 ./input/bowling/Colour 136 (25)-bowling.png 被识别为: Flap\n",
      "图片 ./input/bowling/Colour 136 (20)-bowling.png 被识别为: Flap\n",
      "图片 ./input/bowling/Colour 73 (11)-bowling.png 被识别为: Stand\n",
      "2195张图片识别完毕, 耗时1.87秒, 共有14张图片识别错误\n"
     ]
    }
   ],
   "source": [
    "print(\"以下图片识别错误：\")\n",
    "for key,value in wrong_dict.items():\n",
    "    print('图片',key,'被识别为:', action[value])\n",
    "print('%d张图片识别完毕, 耗时%.2f秒, 共有%d张图片识别错误' % (len(X), elapsed_time, len(wrong_dict)))"
   ]
  }
 ],
 "metadata": {
  "kernelspec": {
   "display_name": "Python [conda env:tf-cpu]",
   "language": "python",
   "name": "conda-env-tf-cpu-py"
  },
  "language_info": {
   "codemirror_mode": {
    "name": "ipython",
    "version": 3
   },
   "file_extension": ".py",
   "mimetype": "text/x-python",
   "name": "python",
   "nbconvert_exporter": "python",
   "pygments_lexer": "ipython3",
   "version": "3.7.5"
  }
 },
 "nbformat": 4,
 "nbformat_minor": 4
}
