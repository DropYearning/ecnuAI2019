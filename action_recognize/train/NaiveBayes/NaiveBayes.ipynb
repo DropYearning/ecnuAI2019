{
 "cells": [
  {
   "cell_type": "code",
   "execution_count": 198,
   "metadata": {},
   "outputs": [],
   "source": [
    "import numpy as np # linear algebra\n",
    "import pandas as pd # data processing, CSV file I/O (e.g. pd.read_csv) \n",
    "import tensorflow as tf\n",
    "import matplotlib.pyplot as plt  # plot \n",
    "from sklearn.model_selection import train_test_split # 划分数据集\n",
    "from sklearn.naive_bayes import GaussianNB, MultinomialNB, BernoulliNB\n",
    "from sklearn.externals import joblib  # 导出sklearn模型\n",
    "from sklearn import metrics # 评估模型\n",
    "from sklearn.metrics import confusion_matrix # 混淆矩阵"
   ]
  },
  {
   "cell_type": "code",
   "execution_count": 199,
   "metadata": {},
   "outputs": [
    {
     "data": {
      "text/plain": [
       "False"
      ]
     },
     "execution_count": 199,
     "metadata": {},
     "output_type": "execute_result"
    }
   ],
   "source": [
    "#　查看是否在使用gpu进行训练\n",
    "tf.test.is_gpu_available()"
   ]
  },
  {
   "cell_type": "code",
   "execution_count": 200,
   "metadata": {},
   "outputs": [],
   "source": [
    "# 准备数据\n",
    "df = pd.read_csv('output_normalized_cmu.csv', header=0)\n",
    "seed = 42"
   ]
  },
  {
   "cell_type": "code",
   "execution_count": 201,
   "metadata": {},
   "outputs": [],
   "source": [
    "# x为36维特征\n",
    "x = df.loc[:, :'17_y'].astype(float)\n",
    "# y为动作种类（标签）\n",
    "y = df.loc[:,['type_index'] ]\n",
    "labels_name = ['Stand', 'Wave', 'Flap', 'Squat', 'Bowling']"
   ]
  },
  {
   "cell_type": "code",
   "execution_count": 202,
   "metadata": {},
   "outputs": [
    {
     "name": "stdout",
     "output_type": "stream",
     "text": [
      "训练集大小: 1317 验证集大小: 439 测试集大小: 439\n"
     ]
    }
   ],
   "source": [
    "# 划分数据集\n",
    "x_temp,x_test,y_temp,y_test = train_test_split(x, y, test_size=0.2, random_state=seed) # 第一次划分，划分出20%为测试集：x_test, y_test\n",
    "x_train, x_validation, y_train, y_validation = train_test_split(x_temp, y_temp, test_size=0.25, random_state=seed) # 第二次划分，划分出60%的训练集和20%的验证集\n",
    "print('训练集大小:', len(x_train),  '验证集大小:', len(x_validation),  '测试集大小:', len(x_test))"
   ]
  },
  {
   "cell_type": "code",
   "execution_count": 203,
   "metadata": {},
   "outputs": [],
   "source": [
    "# 训练贝叶斯分类器（3种）\n",
    "g_nb = GaussianNB() # GaussianNB\n",
    "m_nb = MultinomialNB() # MultinomialNB\n",
    "b_nb = BernoulliNB() # BernoulliNB"
   ]
  },
  {
   "cell_type": "code",
   "execution_count": 204,
   "metadata": {},
   "outputs": [
    {
     "name": "stderr",
     "output_type": "stream",
     "text": [
      "/home/mastlab-zl/anaconda3/envs/tf-cpu/lib/python3.7/site-packages/sklearn/utils/validation.py:724: DataConversionWarning: A column-vector y was passed when a 1d array was expected. Please change the shape of y to (n_samples, ), for example using ravel().\n",
      "  y = column_or_1d(y, warn=True)\n",
      "/home/mastlab-zl/anaconda3/envs/tf-cpu/lib/python3.7/site-packages/sklearn/utils/validation.py:724: DataConversionWarning: A column-vector y was passed when a 1d array was expected. Please change the shape of y to (n_samples, ), for example using ravel().\n",
      "  y = column_or_1d(y, warn=True)\n",
      "/home/mastlab-zl/anaconda3/envs/tf-cpu/lib/python3.7/site-packages/sklearn/utils/validation.py:724: DataConversionWarning: A column-vector y was passed when a 1d array was expected. Please change the shape of y to (n_samples, ), for example using ravel().\n",
      "  y = column_or_1d(y, warn=True)\n"
     ]
    },
    {
     "data": {
      "text/plain": [
       "BernoulliNB(alpha=1.0, binarize=0.0, class_prior=None, fit_prior=True)"
      ]
     },
     "execution_count": 204,
     "metadata": {},
     "output_type": "execute_result"
    }
   ],
   "source": [
    "# 在训练集上训练\n",
    "g_nb.fit(x_train,y_train)\n",
    "m_nb.fit(x_train,y_train)\n",
    "b_nb.fit(x_train,y_train)"
   ]
  },
  {
   "cell_type": "code",
   "execution_count": 205,
   "metadata": {},
   "outputs": [
    {
     "name": "stdout",
     "output_type": "stream",
     "text": [
      "GaussianNB Model Evaluation on validation data: accuracy = 97.722% \n",
      "\n",
      "MultinomialNB Model Evaluation on validation data: accuracy = 78.588% \n",
      "\n",
      "BernoulliNB Model Evaluation on validation data: accuracy = 63.554% \n",
      "\n"
     ]
    }
   ],
   "source": [
    "# 在验证集上检验模型\n",
    "print(\"GaussianNB Model Evaluation on validation data: accuracy = %0.3f%% \\n\"  % ( g_nb.score(x_validation, y_validation) * 100) )\n",
    "print(\"MultinomialNB Model Evaluation on validation data: accuracy = %0.3f%% \\n\"  % ( m_nb.score(x_validation, y_validation) * 100) )\n",
    "print(\"BernoulliNB Model Evaluation on validation data: accuracy = %0.3f%% \\n\"  % ( b_nb.score(x_validation, y_validation) * 100) )\n"
   ]
  },
  {
   "cell_type": "code",
   "execution_count": 206,
   "metadata": {},
   "outputs": [
    {
     "name": "stdout",
     "output_type": "stream",
     "text": [
      "GaussianNB Model Evaluation on test data: accuracy = 98.405% \n",
      "\n",
      "MultinomialNB Model Evaluation on test data: accuracy = 82.916% \n",
      "\n",
      "BernoulliNB Model Evaluation on test data: accuracy = 61.731% \n",
      "\n"
     ]
    }
   ],
   "source": [
    "# 在测试集上检验模型\n",
    "print(\"GaussianNB Model Evaluation on test data: accuracy = %0.3f%% \\n\"  % ( g_nb.score(x_test, y_test) * 100) )\n",
    "print(\"MultinomialNB Model Evaluation on test data: accuracy = %0.3f%% \\n\"  % ( m_nb.score(x_test, y_test) * 100) )\n",
    "print(\"BernoulliNB Model Evaluation on test data: accuracy = %0.3f%% \\n\"  % ( b_nb.score(x_test, y_test) * 100) )"
   ]
  },
  {
   "cell_type": "code",
   "execution_count": 207,
   "metadata": {},
   "outputs": [
    {
     "name": "stdout",
     "output_type": "stream",
     "text": [
      "              precision    recall  f1-score   support\n",
      "\n",
      "           0     1.0000    0.9908    0.9954       109\n",
      "           1     0.9457    0.9775    0.9613        89\n",
      "           2     1.0000    0.9785    0.9891        93\n",
      "           3     0.9886    0.9886    0.9886        88\n",
      "           4     0.9833    0.9833    0.9833        60\n",
      "\n",
      "    accuracy                         0.9841       439\n",
      "   macro avg     0.9835    0.9838    0.9836       439\n",
      "weighted avg     0.9844    0.9841    0.9842       439\n",
      "\n"
     ]
    }
   ],
   "source": [
    "# 评估模型\n",
    "y_pred = g_nb.predict(x_test)\n",
    "y_true = y_test\n",
    "print(metrics.classification_report(y_test, y_pred,digits=4 ))"
   ]
  },
  {
   "cell_type": "code",
   "execution_count": 208,
   "metadata": {},
   "outputs": [
    {
     "name": "stdout",
     "output_type": "stream",
     "text": [
      "[[108   1   0   0   0]\n",
      " [  0  87   0   1   1]\n",
      " [  0   2  91   0   0]\n",
      " [  0   1   0  87   0]\n",
      " [  0   1   0   0  59]]\n"
     ]
    }
   ],
   "source": [
    "# 绘制混淆矩阵\n",
    "def plot_Matrix(cm, classes, title=None,  cmap=plt.cm.Blues):\n",
    "    plt.rc('font',family='Times New Roman',size='8')   # 设置字体样式、大小\n",
    "    \n",
    "    # 按行进行归一化\n",
    "    cm = cm.astype('float') / cm.sum(axis=1)[:, np.newaxis]\n",
    "    print(\"Normalized confusion matrix\")\n",
    "    str_cm = cm.astype(np.str).tolist()\n",
    "    for row in str_cm:\n",
    "        print('\\t'.join(row))\n",
    "    # 占比1%以下的单元格，设为0，防止在最后的颜色中体现出来\n",
    "    for i in range(cm.shape[0]):\n",
    "        for j in range(cm.shape[1]):\n",
    "            if int(cm[i, j]*100 + 0.5) == 0:\n",
    "                cm[i, j]=0\n",
    "\n",
    "    fig, ax = plt.subplots()\n",
    "    im = ax.imshow(cm, interpolation='nearest', cmap=cmap)\n",
    "    # ax.figure.colorbar(im, ax=ax) # 侧边的颜色条带\n",
    "    \n",
    "    ax.set(xticks=np.arange(cm.shape[1]),\n",
    "           yticks=np.arange(cm.shape[0]),\n",
    "           xticklabels=classes, yticklabels=classes,\n",
    "           title=title,\n",
    "           ylabel='Actual',\n",
    "           xlabel='Predicted')\n",
    "\n",
    "    # 通过绘制格网，模拟每个单元格的边框\n",
    "    ax.set_xticks(np.arange(cm.shape[1]+1)-.5, minor=True)\n",
    "    ax.set_yticks(np.arange(cm.shape[0]+1)-.5, minor=True)\n",
    "    ax.grid(which=\"minor\", color=\"gray\", linestyle='-', linewidth=0.2)\n",
    "    ax.tick_params(which=\"minor\", bottom=False, left=False)\n",
    "\n",
    "    # 将x轴上的lables旋转45度\n",
    "    plt.setp(ax.get_xticklabels(), rotation=45, ha=\"right\",\n",
    "             rotation_mode=\"anchor\")\n",
    "\n",
    "    # 标注百分比信息\n",
    "    fmt = 'd'\n",
    "    thresh = cm.max() / 2.\n",
    "    for i in range(cm.shape[0]):\n",
    "        for j in range(cm.shape[1]):\n",
    "            if int(cm[i, j]*100 + 0.5) > 0:\n",
    "                ax.text(j, i, format(int(cm[i, j]*100 + 0.5) , fmt) + '%',\n",
    "                        ha=\"center\", va=\"center\",\n",
    "                        color=\"white\"  if cm[i, j] > thresh else \"black\")\n",
    "    fig.tight_layout()\n",
    "    plt.savefig('cm.png', dpi=300)\n",
    "    plt.show()\n",
    "cm = confusion_matrix(y_true, y_pred)\n",
    "print(cm)"
   ]
  },
  {
   "cell_type": "code",
   "execution_count": 209,
   "metadata": {},
   "outputs": [
    {
     "name": "stdout",
     "output_type": "stream",
     "text": [
      "Normalized confusion matrix\n",
      "0.9908256880733946\t0.009174311926605505\t0.0\t0.0\t0.0\n",
      "0.0\t0.9775280898876404\t0.0\t0.011235955056179775\t0.011235955056179775\n",
      "0.0\t0.021505376344086023\t0.978494623655914\t0.0\t0.0\n",
      "0.0\t0.011363636363636364\t0.0\t0.9886363636363636\t0.0\n",
      "0.0\t0.016666666666666666\t0.0\t0.0\t0.9833333333333333\n"
     ]
    },
    {
     "data": {
      "image/png": "[encoded data removed]",
      "text/plain": [
       "<Figure size 432x288 with 1 Axes>"
      ]
     },
     "metadata": {
      "needs_background": "light"
     },
     "output_type": "display_data"
    }
   ],
   "source": [
    "plot_Matrix(cm, labels_name, \"Naive Bayes Confusion Matrix\")"
   ]
  },
  {
   "cell_type": "code",
   "execution_count": 210,
   "metadata": {},
   "outputs": [
    {
     "data": {
      "text/plain": [
       "['naivebayes_model.m']"
      ]
     },
     "execution_count": 210,
     "metadata": {},
     "output_type": "execute_result"
    }
   ],
   "source": [
    "# 导出sklearn模型\n",
    "joblib.dump(g_nb, \"naivebayes_model.m\")\n",
    "# joblib.dump(m_nb, \"multinomialNB_model.m\")\n",
    "# joblib.dump(b_nb, \"bernoulliNB_model.m\")"
   ]
  },
  {
   "cell_type": "code",
   "execution_count": 211,
   "metadata": {},
   "outputs": [
    {
     "name": "stdout",
     "output_type": "stream",
     "text": [
      "[1]\n"
     ]
    }
   ],
   "source": [
    "input =  [0.42, 0.0, 0.33, 0.14, 0.17, 0.14, 0.08, 0.31, 0.0, 0.48, 0.5, 0.14, 0.75, 0.1, 1.0, 0.03, 0.25, 0.48, 0.25, 0.76, 0.17, 1.0, 0.42, 0.48, 0.42, 0.76, 0.42, 1.0, 0.33, 0.0, 0.42, 0.0, 0.25, 0.0, 0.42, 0.03]\n",
    "input  = np.array(input).reshape((1, 36))\n",
    "pred_output  =  g_nb.predict(input)\n",
    "print(pred_output)"
   ]
  }
 ],
 "metadata": {
  "kernelspec": {
   "display_name": "Python [conda env:tf-cpu]",
   "language": "python",
   "name": "conda-env-tf-cpu-py"
  },
  "language_info": {
   "codemirror_mode": {
    "name": "ipython",
    "version": 3
   },
   "file_extension": ".py",
   "mimetype": "text/x-python",
   "name": "python",
   "nbconvert_exporter": "python",
   "pygments_lexer": "ipython3",
   "version": "3.7.5"
  }
 },
 "nbformat": 4,
 "nbformat_minor": 4
}
