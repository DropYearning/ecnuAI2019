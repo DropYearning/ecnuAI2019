{
 "cells": [
  {
   "cell_type": "code",
   "execution_count": 64,
   "metadata": {},
   "outputs": [],
   "source": [
    "import numpy as np # linear algebra\n",
    "import pandas as pd # data processing, CSV file I/O (e.g. pd.read_csv) \n",
    "import tensorflow as tf\n",
    "import matplotlib.pyplot as plt  # plot \n",
    "from sklearn.model_selection import train_test_split # 划分数据集\n",
    "from sklearn import svm  # SVM\n",
    "from sklearn.externals import joblib  # 导出sklearn模型\n",
    "from sklearn import metrics # 评估模型\n",
    "from sklearn.metrics import confusion_matrix # 混淆矩阵"
   ]
  },
  {
   "cell_type": "code",
   "execution_count": 65,
   "metadata": {},
   "outputs": [
    {
     "data": {
      "text/plain": [
       "False"
      ]
     },
     "execution_count": 65,
     "metadata": {},
     "output_type": "execute_result"
    }
   ],
   "source": [
    "#　查看是否在使用gpu进行训练\n",
    "tf.test.is_gpu_available()"
   ]
  },
  {
   "cell_type": "code",
   "execution_count": 66,
   "metadata": {},
   "outputs": [],
   "source": [
    "# 准备数据\n",
    "df = pd.read_csv('output_normalized_cmu.csv', header=0)\n",
    "seed = 42"
   ]
  },
  {
   "cell_type": "code",
   "execution_count": 67,
   "metadata": {},
   "outputs": [],
   "source": [
    "# x为36维特征\n",
    "x = df.loc[:, :'17_y'].astype(float)\n",
    "# y为动作种类（标签）\n",
    "y = df.loc[:,['type_index'] ]\n",
    "labels_name = ['Stand', 'Wave', 'Flap', 'Squat', 'Bowling']"
   ]
  },
  {
   "cell_type": "code",
   "execution_count": 68,
   "metadata": {},
   "outputs": [
    {
     "name": "stdout",
     "output_type": "stream",
     "text": [
      "训练集大小: 1317 验证集大小: 439 测试集大小: 439\n"
     ]
    }
   ],
   "source": [
    "# 划分数据集\n",
    "x_temp,x_test,y_temp,y_test = train_test_split(x, y, test_size=0.2, random_state=seed) # 第一次划分，划分出20%为测试集：x_test, y_test\n",
    "x_train, x_validation, y_train, y_validation = train_test_split(x_temp, y_temp, test_size=0.25, random_state=seed) # 第二次划分，划分出60%的训练集和20%的验证集\n",
    "print('训练集大小:', len(x_train),  '验证集大小:', len(x_validation),  '测试集大小:', len(x_test))"
   ]
  },
  {
   "cell_type": "code",
   "execution_count": 69,
   "metadata": {},
   "outputs": [],
   "source": [
    "# 初始化SVM\n",
    "svc = svm.SVC(C=1.0, cache_size=200, class_weight=None, coef0=0.0,\n",
    "    decision_function_shape='ovr', degree=3, gamma='auto_deprecated',\n",
    "    kernel='rbf', max_iter=-1, probability=False, random_state=None,\n",
    "    shrinking=True, tol=0.001, verbose=False)\n",
    "\n",
    "nusvc = svm.NuSVC(cache_size=200, class_weight=None, coef0=0.0,\n",
    "      decision_function_shape='ovr', degree=3, gamma='auto_deprecated',\n",
    "      kernel='rbf', max_iter=-1, nu=0.5, probability=False, random_state=None,\n",
    "      shrinking=True, tol=0.001, verbose=False)\n",
    "\n",
    "linear_svc = svm.LinearSVC(C=250.0, dual=True, fit_intercept=True,\n",
    "          loss='squared_hinge',multi_class='ovr', penalty='l2', random_state=seed, tol=0.0001,)"
   ]
  },
  {
   "cell_type": "code",
   "execution_count": 70,
   "metadata": {},
   "outputs": [
    {
     "name": "stderr",
     "output_type": "stream",
     "text": [
      "/home/mastlab-zl/anaconda3/envs/tf-cpu/lib/python3.7/site-packages/sklearn/utils/validation.py:724: DataConversionWarning: A column-vector y was passed when a 1d array was expected. Please change the shape of y to (n_samples, ), for example using ravel().\n",
      "  y = column_or_1d(y, warn=True)\n",
      "/home/mastlab-zl/anaconda3/envs/tf-cpu/lib/python3.7/site-packages/sklearn/svm/base.py:193: FutureWarning: The default value of gamma will change from 'auto' to 'scale' in version 0.22 to account better for unscaled features. Set gamma explicitly to 'auto' or 'scale' to avoid this warning.\n",
      "  \"avoid this warning.\", FutureWarning)\n"
     ]
    },
    {
     "data": {
      "text/plain": [
       "SVC(C=1.0, cache_size=200, class_weight=None, coef0=0.0,\n",
       "    decision_function_shape='ovr', degree=3, gamma='auto_deprecated',\n",
       "    kernel='rbf', max_iter=-1, probability=False, random_state=None,\n",
       "    shrinking=True, tol=0.001, verbose=False)"
      ]
     },
     "execution_count": 70,
     "metadata": {},
     "output_type": "execute_result"
    }
   ],
   "source": [
    "# 在训练集上训练\n",
    "svc.fit(x_train,y_train)"
   ]
  },
  {
   "cell_type": "code",
   "execution_count": 71,
   "metadata": {},
   "outputs": [
    {
     "name": "stderr",
     "output_type": "stream",
     "text": [
      "/home/mastlab-zl/anaconda3/envs/tf-cpu/lib/python3.7/site-packages/sklearn/utils/validation.py:724: DataConversionWarning: A column-vector y was passed when a 1d array was expected. Please change the shape of y to (n_samples, ), for example using ravel().\n",
      "  y = column_or_1d(y, warn=True)\n",
      "/home/mastlab-zl/anaconda3/envs/tf-cpu/lib/python3.7/site-packages/sklearn/svm/base.py:193: FutureWarning: The default value of gamma will change from 'auto' to 'scale' in version 0.22 to account better for unscaled features. Set gamma explicitly to 'auto' or 'scale' to avoid this warning.\n",
      "  \"avoid this warning.\", FutureWarning)\n"
     ]
    },
    {
     "data": {
      "text/plain": [
       "NuSVC(cache_size=200, class_weight=None, coef0=0.0,\n",
       "      decision_function_shape='ovr', degree=3, gamma='auto_deprecated',\n",
       "      kernel='rbf', max_iter=-1, nu=0.5, probability=False, random_state=None,\n",
       "      shrinking=True, tol=0.001, verbose=False)"
      ]
     },
     "execution_count": 71,
     "metadata": {},
     "output_type": "execute_result"
    }
   ],
   "source": [
    "nusvc.fit(x_train,y_train)"
   ]
  },
  {
   "cell_type": "code",
   "execution_count": 72,
   "metadata": {},
   "outputs": [
    {
     "name": "stderr",
     "output_type": "stream",
     "text": [
      "/home/mastlab-zl/anaconda3/envs/tf-cpu/lib/python3.7/site-packages/sklearn/utils/validation.py:724: DataConversionWarning: A column-vector y was passed when a 1d array was expected. Please change the shape of y to (n_samples, ), for example using ravel().\n",
      "  y = column_or_1d(y, warn=True)\n",
      "/home/mastlab-zl/anaconda3/envs/tf-cpu/lib/python3.7/site-packages/sklearn/svm/base.py:929: ConvergenceWarning: Liblinear failed to converge, increase the number of iterations.\n",
      "  \"the number of iterations.\", ConvergenceWarning)\n"
     ]
    },
    {
     "data": {
      "text/plain": [
       "LinearSVC(C=250.0, class_weight=None, dual=True, fit_intercept=True,\n",
       "          intercept_scaling=1, loss='squared_hinge', max_iter=1000,\n",
       "          multi_class='ovr', penalty='l2', random_state=42, tol=0.0001,\n",
       "          verbose=0)"
      ]
     },
     "execution_count": 72,
     "metadata": {},
     "output_type": "execute_result"
    }
   ],
   "source": [
    "linear_svc.fit(x_train,y_train)"
   ]
  },
  {
   "cell_type": "code",
   "execution_count": 73,
   "metadata": {},
   "outputs": [
    {
     "name": "stdout",
     "output_type": "stream",
     "text": [
      "SVC Evaluation on validation data: accuracy = 89.066% \n",
      "\n",
      "NuSVC Evaluation on validation data: accuracy = 89.977% \n",
      "\n",
      "Linear_SVC Evaluation on validation data: accuracy = 98.178% \n",
      "\n"
     ]
    }
   ],
   "source": [
    "# 在验证集上检验模型\n",
    "print(\"SVC Evaluation on validation data: accuracy = %0.3f%% \\n\"  % ( svc.score(x_validation, y_validation) * 100) )\n",
    "print(\"NuSVC Evaluation on validation data: accuracy = %0.3f%% \\n\"  % ( nusvc.score(x_validation, y_validation) * 100) )\n",
    "print(\"Linear_SVC Evaluation on validation data: accuracy = %0.3f%% \\n\"  % ( linear_svc.score(x_validation, y_validation) * 100) )"
   ]
  },
  {
   "cell_type": "code",
   "execution_count": 74,
   "metadata": {},
   "outputs": [
    {
     "name": "stdout",
     "output_type": "stream",
     "text": [
      "Evaluation on test data: accuracy = 98.861% \n",
      "\n"
     ]
    }
   ],
   "source": [
    "# 在测试集上检验模型\n",
    "print(\"Evaluation on test data: accuracy = %0.3f%% \\n\"  % ( linear_svc.score(x_test, y_test) * 100) )"
   ]
  },
  {
   "cell_type": "code",
   "execution_count": 75,
   "metadata": {},
   "outputs": [
    {
     "name": "stdout",
     "output_type": "stream",
     "text": [
      "              precision    recall  f1-score   support\n",
      "\n",
      "       Stand     0.9646    1.0000    0.9820       109\n",
      "        Wave     1.0000    0.9663    0.9829        89\n",
      "        Flap     1.0000    1.0000    1.0000        93\n",
      "       Squat     0.9886    0.9886    0.9886        88\n",
      "     Bowling     1.0000    0.9833    0.9916        60\n",
      "\n",
      "    accuracy                         0.9886       439\n",
      "   macro avg     0.9906    0.9877    0.9890       439\n",
      "weighted avg     0.9889    0.9886    0.9886       439\n",
      "\n"
     ]
    }
   ],
   "source": [
    "# 评估模型\n",
    "y_pred = linear_svc.predict(x_test)\n",
    "y_true = y_test\n",
    "print(metrics.classification_report(y_test, y_pred, digits=4, target_names=labels_name))"
   ]
  },
  {
   "cell_type": "code",
   "execution_count": 76,
   "metadata": {},
   "outputs": [
    {
     "name": "stdout",
     "output_type": "stream",
     "text": [
      "[[109   0   0   0   0]\n",
      " [  3  86   0   0   0]\n",
      " [  0   0  93   0   0]\n",
      " [  1   0   0  87   0]\n",
      " [  0   0   0   1  59]]\n"
     ]
    }
   ],
   "source": [
    "# 绘制混淆矩阵\n",
    "def plot_Matrix(cm, classes, title=None,  cmap=plt.cm.Blues):\n",
    "    plt.rc('font',family='Times New Roman',size='8')   # 设置字体样式、大小\n",
    "    \n",
    "    # 按行进行归一化\n",
    "    cm = cm.astype('float') / cm.sum(axis=1)[:, np.newaxis]\n",
    "    print(\"Normalized confusion matrix\")\n",
    "    str_cm = cm.astype(np.str).tolist()\n",
    "    for row in str_cm:\n",
    "        print('\\t'.join(row))\n",
    "    # 占比1%以下的单元格，设为0，防止在最后的颜色中体现出来\n",
    "    for i in range(cm.shape[0]):\n",
    "        for j in range(cm.shape[1]):\n",
    "            if int(cm[i, j]*100 + 0.5) == 0:\n",
    "                cm[i, j]=0\n",
    "\n",
    "    fig, ax = plt.subplots()\n",
    "    im = ax.imshow(cm, interpolation='nearest', cmap=cmap)\n",
    "    # ax.figure.colorbar(im, ax=ax) # 侧边的颜色条带\n",
    "    \n",
    "    ax.set(xticks=np.arange(cm.shape[1]),\n",
    "           yticks=np.arange(cm.shape[0]),\n",
    "           xticklabels=classes, yticklabels=classes,\n",
    "           title=title,\n",
    "           ylabel='Actual',\n",
    "           xlabel='Predicted')\n",
    "\n",
    "    # 通过绘制格网，模拟每个单元格的边框\n",
    "    ax.set_xticks(np.arange(cm.shape[1]+1)-.5, minor=True)\n",
    "    ax.set_yticks(np.arange(cm.shape[0]+1)-.5, minor=True)\n",
    "    ax.grid(which=\"minor\", color=\"gray\", linestyle='-', linewidth=0.2)\n",
    "    ax.tick_params(which=\"minor\", bottom=False, left=False)\n",
    "\n",
    "    # 将x轴上的lables旋转45度\n",
    "    plt.setp(ax.get_xticklabels(), rotation=45, ha=\"right\",\n",
    "             rotation_mode=\"anchor\")\n",
    "\n",
    "    # 标注百分比信息\n",
    "    fmt = 'd'\n",
    "    thresh = cm.max() / 2.\n",
    "    for i in range(cm.shape[0]):\n",
    "        for j in range(cm.shape[1]):\n",
    "            if int(cm[i, j]*100 + 0.5) > 0:\n",
    "                ax.text(j, i, format(int(cm[i, j]*100 + 0.5) , fmt) + '%',\n",
    "                        ha=\"center\", va=\"center\",\n",
    "                        color=\"white\"  if cm[i, j] > thresh else \"black\")\n",
    "    fig.tight_layout()\n",
    "    plt.savefig('cm.png', dpi=300)\n",
    "    plt.show()\n",
    "cm = confusion_matrix(y_test, y_pred)\n",
    "print(cm)"
   ]
  },
  {
   "cell_type": "code",
   "execution_count": 77,
   "metadata": {},
   "outputs": [
    {
     "name": "stdout",
     "output_type": "stream",
     "text": [
      "Normalized confusion matrix\n",
      "1.0\t0.0\t0.0\t0.0\t0.0\n",
      "0.033707865168539325\t0.9662921348314607\t0.0\t0.0\t0.0\n",
      "0.0\t0.0\t1.0\t0.0\t0.0\n",
      "0.011363636363636364\t0.0\t0.0\t0.9886363636363636\t0.0\n",
      "0.0\t0.0\t0.0\t0.016666666666666666\t0.9833333333333333\n"
     ]
    },
    {
     "data": {
      "image/png": "[encoded data removed]",
      "text/plain": [
       "<Figure size 432x288 with 1 Axes>"
      ]
     },
     "metadata": {
      "needs_background": "light"
     },
     "output_type": "display_data"
    }
   ],
   "source": [
    "plot_Matrix(cm, labels_name, \"SVM Confusion Matrix\")"
   ]
  },
  {
   "cell_type": "code",
   "execution_count": 78,
   "metadata": {},
   "outputs": [
    {
     "data": {
      "text/plain": [
       "['svm_model.m']"
      ]
     },
     "execution_count": 78,
     "metadata": {},
     "output_type": "execute_result"
    }
   ],
   "source": [
    "# 导出sklearn模型\n",
    "joblib.dump(svc, \"svm_model.m\")"
   ]
  },
  {
   "cell_type": "code",
   "execution_count": 79,
   "metadata": {},
   "outputs": [
    {
     "name": "stdout",
     "output_type": "stream",
     "text": [
      "[1]\n"
     ]
    }
   ],
   "source": [
    "input =  [0.42, 0.0, 0.33, 0.14, 0.17, 0.14, 0.08, 0.31, 0.0, 0.48, 0.5, 0.14, 0.75, 0.1, 1.0, 0.03, 0.25, 0.48, 0.25, 0.76, 0.17, 1.0, 0.42, 0.48, 0.42, 0.76, 0.42, 1.0, 0.33, 0.0, 0.42, 0.0, 0.25, 0.0, 0.42, 0.03]\n",
    "input  = np.array(input).reshape((1, 36))\n",
    "pred_output  = svc.predict(input)\n",
    "print(pred_output)"
   ]
  }
 ],
 "metadata": {
  "kernelspec": {
   "display_name": "Python [conda env:tf-cpu]",
   "language": "python",
   "name": "conda-env-tf-cpu-py"
  },
  "language_info": {
   "codemirror_mode": {
    "name": "ipython",
    "version": 3
   },
   "file_extension": ".py",
   "mimetype": "text/x-python",
   "name": "python",
   "nbconvert_exporter": "python",
   "pygments_lexer": "ipython3",
   "version": "3.7.5"
  }
 },
 "nbformat": 4,
 "nbformat_minor": 4
}
